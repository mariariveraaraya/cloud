{
 "cells": [
  {
   "cell_type": "markdown",
   "metadata": {},
   "source": [
    "## Querying Synapse from VS Code using Python\n",
    "\n",
    "This notebook provides a guide for querying and analyzing available views in Azure Synapse Analytics directly from Visual Studio Code (VS Code) or your preferred Integrated Development Environment (IDE) using Python.  By following the instructions in this notebook, you will learn how to establish a connection to your Synapse workspace, execute SQL queries against the available views, and retrieve the results. Search for <TODO> for locations where you need to input the appropriate values based on your use case.\n",
    "\n",
    "**Prerequisites**:\n",
    "\n",
    "- Data Reader permissions in the storage account you are trying to access.\n",
    "- An installation of Python available in your local machine\n",
    "- An IDE (like VSCode)"
   ]
  },
  {
   "cell_type": "code",
   "execution_count": 1,
   "metadata": {},
   "outputs": [],
   "source": [
    "# Install pyodbc for SQL Server connectivity  \n",
    "\n",
    "%pip install pyodbc"
   ]
  },
  {
   "cell_type": "code",
   "execution_count": 1,
   "metadata": {},
   "outputs": [],
   "source": [
    "# Import libraries for SQL Server connectivity and data manipulation\n",
    "\n",
    "import pyodbc\n",
    "import pandas as pd"
   ]
  },
  {
   "cell_type": "code",
   "execution_count": 3,
   "metadata": {},
   "outputs": [],
   "source": [
    "# Define connection parameters. Once you run this cell a new tab in your browser will open asking you to login to your Azure account. Once you login, you will be able to connect to the database.\n",
    "# TODO: Replace the server name and username with your own values\n",
    "\n",
    "server = \"sbox-synapse-prd-ondemand.sql.azuresynapse.net\" # make sure to change it to your server name\n",
    "database = \"synapse_od\"\n",
    "username = \"myemail@des.qld.gov.au\" # Replace with your des your email here\n",
    "Authentication = \"ActiveDirectoryInteractive\"\n",
    "driver = \"{ODBC Driver 17 for SQL Server}\""
   ]
  },
  {
   "cell_type": "code",
   "execution_count": 4,
   "metadata": {},
   "outputs": [],
   "source": [
    "# Connect to SQL Server using pyodbc and the parameters above. Once you run this cell a new tab in your browser will open asking you to login to your Azure account. Once you login, you will be able to connect to the database.\n",
    "\n",
    "\n",
    "conn_str = f\"DRIVER={driver};SERVER={server};DATABASE={database};UID={username};Authentication={Authentication};\"\n",
    "conn = pyodbc.connect(conn_str)"
   ]
  },
  {
   "cell_type": "code",
   "execution_count": null,
   "metadata": {},
   "outputs": [],
   "source": [
    "# Query the database and load the results into a dataframe\n",
    "# Here we want to retrieve the first 100 observations from the tide view in sbox_curated. Check out the next cell to understand how to get the name of available views\n",
    "# TODO: Replace the query with your own query\n",
    "\n",
    "query = \"SELECT TOP (100) [timestamp] ,[lowest_astronomical_tide_datum_reading] FROM [sbox_curated].[tide]\" \n",
    "\n",
    "df = pd.read_sql(query, conn)\n",
    "\n",
    "for index, row in df.iterrows():\n",
    "    # Process each row as needed\n",
    "    print(row)\n"
   ]
  },
  {
   "cell_type": "code",
   "execution_count": null,
   "metadata": {},
   "outputs": [],
   "source": [
    "# To get the list of available views in the database, we can use the following code:\n",
    "\n",
    "# Create a cursor object\n",
    "cursor = conn.cursor()\n",
    "\n",
    "# Get the list of available tables\n",
    "tables = cursor.tables()\n",
    "\n",
    "# Iterate over the tables and print their names\n",
    "for table in tables:\n",
    "    print(table.table_name)"
   ]
  },
  {
   "cell_type": "code",
   "execution_count": null,
   "metadata": {},
   "outputs": [],
   "source": [
    "# Close the connection to the database when done\n",
    "\n",
    "conn.close()"
   ]
  }
 ],
 "metadata": {
  "kernelspec": {
   "display_name": "azureml6",
   "language": "python",
   "name": "python3"
  },
  "language_info": {
   "codemirror_mode": {
    "name": "ipython",
    "version": 3
   },
   "file_extension": ".py",
   "mimetype": "text/x-python",
   "name": "python",
   "nbconvert_exporter": "python",
   "pygments_lexer": "ipython3",
   "version": "3.8.13"
  }
 },
 "nbformat": 4,
 "nbformat_minor": 2
}
